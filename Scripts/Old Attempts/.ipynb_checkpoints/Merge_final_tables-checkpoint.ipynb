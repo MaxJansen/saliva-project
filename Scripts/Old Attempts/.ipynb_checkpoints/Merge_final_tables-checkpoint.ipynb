{
 "cells": [
  {
   "cell_type": "code",
   "execution_count": 101,
   "metadata": {
    "collapsed": true
   },
   "outputs": [],
   "source": [
    "# Import packages\n",
    "import os\n",
    "import argparse\n",
    "import time\n",
    "import numpy as np\n",
    "import pandas as pd\n",
    "import ast\n",
    "import seaborn as sns\n",
    "import matplotlib.pyplot as plt"
   ]
  },
  {
   "cell_type": "code",
   "execution_count": 104,
   "metadata": {
    "collapsed": true
   },
   "outputs": [],
   "source": [
    "# read csv's listing uniprotKB/AC and PDB\n",
    "def get_csv(org_csv, org):\n",
    "    df = pd.read_csv(org_csv, header=None, sep = ' ')\n",
    "    df.columns = ['UniProtACID', 'PDB_ID']\n",
    "    df['Organism'] = org\n",
    "    return df"
   ]
  },
  {
   "cell_type": "code",
   "execution_count": 189,
   "metadata": {},
   "outputs": [],
   "source": [
    "human_df = get_csv('csv_data/human_uniprot_pdb.txt', 'human')\n",
    "pea_df = get_csv('csv_data/pea_uniprot_pdb.txt', 'pea')\n",
    "soybean_df = get_csv('csv_data/soybean_uniprot_pdb.txt', 'soybean')\n",
    "whey_df = get_csv('csv_data/whey_uniprot_pdb.txt', 'whey')\n",
    "surface_df = pd.read_csv('csv_data/ply_patch_ratio_saliva.txt', header = None, sep = ',')\n",
    "surface_df.columns = ['PDB_ID', 'surface_ratio']\n",
    "\n",
    "# Further edits on surface_df to remove characters\n",
    "surface_df['PDB_ID'] = surface_df.PDB_ID.str.strip('(<DirEntry >')\n",
    "surface_df.PDB_ID = surface_df.PDB_ID.str.replace(\"'\", \"\")\n",
    "surface_df.PDB_ID = surface_df.PDB_ID.str.rstrip('.ply')\n",
    "surface_df.surface_ratio = surface_df.surface_ratio.str.rstrip(')')\n",
    "surface_df.PDB_ID = surface_df.PDB_ID.str.split('_', 1).str[0]\n",
    "surface_df.surface_ratio = pd.to_numeric(surface_df.surface_ratio)"
   ]
  },
  {
   "cell_type": "code",
   "execution_count": 190,
   "metadata": {
    "scrolled": true
   },
   "outputs": [],
   "source": [
    "merged_human = pd.merge(surface_df, human_df, how = 'inner')"
   ]
  },
  {
   "cell_type": "code",
   "execution_count": 191,
   "metadata": {},
   "outputs": [],
   "source": [
    "merged_pea = pd.merge(surface_df, pea_df, how = 'inner')"
   ]
  },
  {
   "cell_type": "code",
   "execution_count": 192,
   "metadata": {},
   "outputs": [],
   "source": [
    "merged_soybean = pd.merge(surface_df, soybean_df, how='inner')"
   ]
  },
  {
   "cell_type": "code",
   "execution_count": 193,
   "metadata": {},
   "outputs": [],
   "source": [
    "merged_whey = pd.merge(surface_df, whey_df, how = 'inner')"
   ]
  },
  {
   "cell_type": "code",
   "execution_count": 194,
   "metadata": {},
   "outputs": [],
   "source": [
    "all_results = pd.concat([merged_human, merged_pea, merged_soybean, merged_whey]).reset_index(drop = True)"
   ]
  },
  {
   "cell_type": "code",
   "execution_count": 195,
   "metadata": {},
   "outputs": [],
   "source": [
    "all_results.to_csv('csv_data/all_uniprot_pdb_surface.txt', sep = ' ')"
   ]
  },
  {
   "cell_type": "code",
   "execution_count": null,
   "metadata": {
    "collapsed": true
   },
   "outputs": [],
   "source": []
  }
 ],
 "metadata": {
  "kernelspec": {
   "display_name": "Python 3",
   "language": "python",
   "name": "python3"
  },
  "language_info": {
   "codemirror_mode": {
    "name": "ipython",
    "version": 3
   },
   "file_extension": ".py",
   "mimetype": "text/x-python",
   "name": "python",
   "nbconvert_exporter": "python",
   "pygments_lexer": "ipython3",
   "version": "3.6.1"
  }
 },
 "nbformat": 4,
 "nbformat_minor": 2
}
